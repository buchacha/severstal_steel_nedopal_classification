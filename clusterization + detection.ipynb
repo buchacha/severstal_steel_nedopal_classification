{
 "cells": [
  {
   "cell_type": "code",
   "execution_count": null,
   "metadata": {},
   "outputs": [],
   "source": [
    "import cv2\n",
    "import os\n",
    "import matplotlib.pyplot as plt\n",
    "\n",
    "plt.figure(figsize=(10,7))\n",
    "directory = 'extra_cropped_data/data_ground/'\n",
    "filename = '10.jpg'\n",
    "filepath = os.path.join(directory, filename)\n",
    "\n",
    "pic = cv2.imread(filepath)\n",
    "rgb_pic = cv2.cvtColor(pic, cv2.COLOR_BGR2RGB)\n",
    "\n",
    "plt.imshow(rgb_pic)"
   ]
  },
  {
   "cell_type": "code",
   "execution_count": null,
   "metadata": {},
   "outputs": [],
   "source": [
    "img_lab = cv2.cvtColor(pic, cv2.COLOR_BGR2Lab)\n",
    "img_hsv = cv2.cvtColor(pic, cv2.COLOR_BGR2HSV)\n",
    "img_YCbCr = cv2.cvtColor(pic, cv2.COLOR_BGR2YCR_CB)\n",
    "img_rgb = cv2.cvtColor(pic, cv2.COLOR_BGR2RGB)"
   ]
  },
  {
   "cell_type": "code",
   "execution_count": null,
   "metadata": {},
   "outputs": [],
   "source": [
    "plt.figure(figsize=(20,10))\n",
    "\n",
    "fig, ax = plt.subplots(2, 2, figsize=(20, 10))\n",
    "\n",
    "ax[0, 0].imshow(img_rgb) \n",
    "ax[0, 1].imshow(img_rgb[:,:,0], cmap='gray') \n",
    "ax[1, 0].imshow(img_rgb[:,:,1], cmap='gray') \n",
    "ax[1, 1].imshow(img_rgb[:,:,2], cmap='gray') \n",
    "\n",
    "plt.show()"
   ]
  },
  {
   "cell_type": "code",
   "execution_count": null,
   "metadata": {},
   "outputs": [],
   "source": [
    "plt.figure(figsize=(20,10))\n",
    "\n",
    "fig, ax = plt.subplots(2, 2, figsize=(20, 10))\n",
    "\n",
    "ax[0, 0].imshow(img_lab) \n",
    "ax[0, 1].imshow(img_lab[:,:,0], cmap='gray') \n",
    "ax[1, 0].imshow(img_lab[:,:,1], cmap='gray') \n",
    "ax[1, 1].imshow(img_lab[:,:,2], cmap='gray') \n",
    "\n",
    "plt.show()"
   ]
  },
  {
   "cell_type": "code",
   "execution_count": null,
   "metadata": {},
   "outputs": [],
   "source": [
    "plt.figure(figsize=(20,10))\n",
    "\n",
    "fig, ax = plt.subplots(2, 2, figsize=(20, 10))\n",
    "\n",
    "\n",
    "ax[0, 0].imshow(img_hsv) \n",
    "ax[0, 1].imshow(img_hsv[:,:,0], cmap='gray') \n",
    "ax[1, 0].imshow(img_hsv[:,:,1], cmap='gray') \n",
    "ax[1, 1].imshow(img_hsv[:,:,2], cmap='gray') \n",
    "\n",
    "plt.show()"
   ]
  },
  {
   "cell_type": "code",
   "execution_count": null,
   "metadata": {},
   "outputs": [],
   "source": [
    "plt.figure(figsize=(20,10))\n",
    "\n",
    "fig, ax = plt.subplots(2, 2, figsize=(20, 10))\n",
    "\n",
    "ax[0, 0].imshow(img_YCbCr) \n",
    "ax[0, 1].imshow(img_YCbCr[:,:,0], cmap='gray') \n",
    "ax[1, 0].imshow(img_YCbCr[:,:,1], cmap='gray') \n",
    "ax[1, 1].imshow(img_YCbCr[:,:,2], cmap='gray') \n",
    "\n",
    "plt.show()"
   ]
  },
  {
   "cell_type": "code",
   "execution_count": null,
   "metadata": {},
   "outputs": [],
   "source": [
    "fig, ax = plt.subplots(1,1,figsize=(20, 10))\n",
    "\n",
    "plt.imshow(img_YCbCr)\n",
    "\n",
    "fig.savefig(\"YCbCrfull.png\")"
   ]
  },
  {
   "cell_type": "code",
   "execution_count": null,
   "metadata": {},
   "outputs": [],
   "source": [
    "fig, ax = plt.subplots(1,1,figsize=(20, 10))\n",
    "\n",
    "plt.imshow(img_YCbCr[:,:,0], cmap='gray')\n",
    "\n",
    "fig.savefig(\"YCbCr_Y.png\")"
   ]
  },
  {
   "cell_type": "code",
   "execution_count": null,
   "metadata": {},
   "outputs": [],
   "source": [
    "fig, ax = plt.subplots(1,1,figsize=(20, 10))\n",
    "\n",
    "plt.imshow(img_YCbCr[:,:,1], cmap='gray')\n",
    "\n",
    "fig.savefig(\"YCbCr_Cb.png\")"
   ]
  },
  {
   "cell_type": "code",
   "execution_count": null,
   "metadata": {},
   "outputs": [],
   "source": [
    "fig, ax = plt.subplots(1,1,figsize=(20, 10))\n",
    "\n",
    "plt.imshow(img_YCbCr[:,:,2], cmap='gray')\n",
    "\n",
    "fig.savefig(\"YCbCr_Cr.png\")"
   ]
  },
  {
   "cell_type": "code",
   "execution_count": null,
   "metadata": {},
   "outputs": [],
   "source": [
    "import numpy as np\n",
    "\n",
    "plt.figure(figsize=(10, 7))\n",
    "mask = cv2.inRange(img_hsv, (10, 100, 20), (25, 255, 255))\n",
    "img_hsv_orange = cv2.bitwise_and(img_hsv,img_hsv,mask = mask)\n",
    "img_hsv_orange = np.array(img_hsv_orange/255,np.float32)\n",
    "plt.imshow(img_hsv_orange)"
   ]
  },
  {
   "cell_type": "code",
   "execution_count": null,
   "metadata": {},
   "outputs": [],
   "source": [
    "import matplotlib.pyplot as plt\n",
    "from sklearn.cluster import KMeans\n",
    "import cv2\n",
    "import numpy as np\n",
    "plt.figure(figsize=(10, 7))\n",
    "\n",
    "n_clusters = 7\n",
    "w, h, d = original_shape = tuple(rgb_pic.shape)\n",
    "image_array = np.reshape(rgb_pic, (w * h, d))\n",
    "kmeans = KMeans(n_clusters, random_state=0).fit(image_array)\n",
    "\n",
    "\n",
    "labels =  kmeans.labels_\n",
    "image = np.zeros((w, h, d))\n",
    "label_idx = 0\n",
    "color = [0, 0, 0]\n",
    "for i in range(w):\n",
    "    for j in range(h):\n",
    "        if(labels[label_idx] == 0):\n",
    "            color = [255, 0, 0]\n",
    "        if(labels[label_idx] == 1):\n",
    "            color = [0, 255, 0]\n",
    "        if(labels[label_idx] == 2):\n",
    "            color = [0, 0, 255]\n",
    "        if(labels[label_idx] == 3):\n",
    "            color = [0, 255, 255]        \n",
    "        if(labels[label_idx] == 4):\n",
    "            color = [255, 0, 255]\n",
    "        if(labels[label_idx] == 5):\n",
    "            color = [255, 255, 255]    \n",
    "        if(labels[label_idx] == 6):\n",
    "            color = [0, 0, 0] \n",
    "            \n",
    "        image[i][j][:] = color\n",
    "        label_idx += 1\n",
    "\n",
    "image = np.array(image/255,np.float32)\n",
    "plt.imshow(image)\n",
    "cv2.imwrite('clust2_p.jpg', image)"
   ]
  },
  {
   "cell_type": "code",
   "execution_count": null,
   "metadata": {},
   "outputs": [],
   "source": [
    "can1 = cv2.cvtColor(img_hsv_orange, cv2.COLOR_RGB2GRAY)\n",
    "can2 = img_hsv[:,:,0]\n",
    "can3 = img_YCbCr[:,:,2]\n",
    "can4 = image"
   ]
  },
  {
   "cell_type": "code",
   "execution_count": null,
   "metadata": {},
   "outputs": [],
   "source": [
    "print(can1.shape)\n",
    "print(can2.shape)\n",
    "print(can3.shape)\n",
    "print(can4.shape)"
   ]
  },
  {
   "cell_type": "code",
   "execution_count": null,
   "metadata": {},
   "outputs": [],
   "source": [
    "fig, ax = plt.subplots(2,2, figsize=(20,10))\n",
    "\n",
    "ax[0,0].imshow(can1, cmap='gray') \n",
    "ax[0,1].imshow(can2, cmap='gray') \n",
    "ax[1,0].imshow(can3, cmap='gray') \n",
    "ax[1,1].imshow(can4, cmap='gray') \n",
    "plt.show()"
   ]
  },
  {
   "cell_type": "code",
   "execution_count": null,
   "metadata": {},
   "outputs": [],
   "source": [
    "ret,thresh1 = cv2.threshold(can1,0,255,cv2.THRESH_BINARY)\n",
    "ret,thresh2 = cv2.threshold(can2,20,255,cv2.THRESH_BINARY_INV)\n",
    "thresh2 = cv2.medianBlur(thresh2, 3)\n",
    "ret,thresh3 = cv2.threshold(can3,100,255,cv2.THRESH_BINARY_INV)"
   ]
  },
  {
   "cell_type": "code",
   "execution_count": null,
   "metadata": {},
   "outputs": [],
   "source": [
    "fig, ax = plt.subplots(2,2, figsize=(20,10))\n",
    "\n",
    "ax[0,0].imshow(thresh1, cmap='gray') \n",
    "ax[0,1].imshow(thresh2, cmap='gray') \n",
    "ax[1,0].imshow(thresh3, cmap='gray') \n",
    "ax[1,1].imshow(can4, cmap='gray') \n",
    "plt.show()"
   ]
  },
  {
   "cell_type": "code",
   "execution_count": null,
   "metadata": {},
   "outputs": [],
   "source": [
    "fig, ax = plt.subplots(1, 1, figsize=(20,10))\n",
    "\n",
    "plt.imshow(thresh3, cmap='gray')\n",
    "\n",
    "plt.savefig(\"YCbCr_thresh.png\")"
   ]
  },
  {
   "cell_type": "code",
   "execution_count": null,
   "metadata": {},
   "outputs": [],
   "source": [
    "fig, ax = plt.subplots(1, 1, figsize=(20,10))\n",
    "\n",
    "plt.imshow(thresh2, cmap='gray')\n",
    "\n",
    "plt.savefig(\"HSV_H_thresh.png\")"
   ]
  },
  {
   "cell_type": "code",
   "execution_count": null,
   "metadata": {},
   "outputs": [],
   "source": [
    "fig, ax = plt.subplots(1, 1, figsize=(20,10))\n",
    "\n",
    "plt.imshow(thresh1, cmap='gray')\n",
    "\n",
    "plt.savefig(\"Orange_thresh.png\")"
   ]
  },
  {
   "cell_type": "code",
   "execution_count": null,
   "metadata": {},
   "outputs": [],
   "source": [
    "plt.figure(figsize=(10,7))\n",
    "res = np.zeros((w,h,d))\n",
    "res[:,:,0] = np.where(thresh3, rgb_pic[:,:,0], 0)\n",
    "res[:,:,1] = np.where(thresh3, rgb_pic[:,:,1], 0)\n",
    "res[:,:,2] = np.where(thresh3, rgb_pic[:,:,2], 0)\n",
    "\n",
    "res = np.array(res/255,np.float32)\n",
    "\n",
    "plt.imshow(res)"
   ]
  },
  {
   "cell_type": "code",
   "execution_count": null,
   "metadata": {},
   "outputs": [],
   "source": [
    "fig, ax = plt.subplots(1, 1, figsize=(20,10))\n",
    "\n",
    "plt.imshow(res, cmap='gray')\n",
    "\n",
    "plt.savefig(\"YCbCr_applied.png\")"
   ]
  },
  {
   "cell_type": "code",
   "execution_count": null,
   "metadata": {},
   "outputs": [],
   "source": [
    "plt.figure(figsize=(10,7))\n",
    "res = np.zeros((w,h,d))\n",
    "res[:,:,0] = np.where(thresh1, rgb_pic[:,:,0], 0)\n",
    "res[:,:,1] = np.where(thresh1, rgb_pic[:,:,1], 0)\n",
    "res[:,:,2] = np.where(thresh1, rgb_pic[:,:,2], 0)\n",
    "\n",
    "res = np.array(res/255,np.float32)\n",
    "\n",
    "plt.imshow(res)"
   ]
  },
  {
   "cell_type": "code",
   "execution_count": null,
   "metadata": {},
   "outputs": [],
   "source": [
    "fig, ax = plt.subplots(1, 1, figsize=(20,10))\n",
    "\n",
    "plt.imshow(res, cmap='gray')\n",
    "\n",
    "plt.savefig(\"Orange_applied.png\")"
   ]
  },
  {
   "cell_type": "code",
   "execution_count": null,
   "metadata": {},
   "outputs": [],
   "source": [
    "plt.figure(figsize=(10,7))\n",
    "res = np.zeros((w,h,d))\n",
    "res[:,:,0] = np.where(thresh2, rgb_pic[:,:,0], 0)\n",
    "res[:,:,1] = np.where(thresh2, rgb_pic[:,:,1], 0)\n",
    "res[:,:,2] = np.where(thresh2, rgb_pic[:,:,2], 0)\n",
    "\n",
    "res = np.array(res/255,np.float32)\n",
    "\n",
    "plt.imshow(res)"
   ]
  },
  {
   "cell_type": "code",
   "execution_count": null,
   "metadata": {},
   "outputs": [],
   "source": [
    "fig, ax = plt.subplots(1, 1, figsize=(20,10))\n",
    "\n",
    "plt.imshow(res, cmap='gray')\n",
    "\n",
    "plt.savefig(\"HSV_H_applied.png\")"
   ]
  },
  {
   "cell_type": "code",
   "execution_count": 2,
   "metadata": {},
   "outputs": [
    {
     "data": {
      "text/plain": [
       "<matplotlib.image.AxesImage at 0x121030e20>"
      ]
     },
     "execution_count": 2,
     "metadata": {},
     "output_type": "execute_result"
    },
    {
     "data": {
      "image/png": "[encoded data removed]",
      "text/plain": [
       "<Figure size 432x288 with 1 Axes>"
      ]
     },
     "metadata": {
      "needs_background": "light"
     },
     "output_type": "display_data"
    }
   ],
   "source": [
    "# Детекция на основе цветового пространства HSV\n",
    "\n",
    "import cv2\n",
    "import os\n",
    "import matplotlib.pyplot as plt\n",
    "import numpy as np\n",
    "\n",
    "directory = 'extra_cropped_data/data_ground/'\n",
    "filename = '10.jpg'\n",
    "filepath = os.path.join(directory, filename)\n",
    "\n",
    "pic = cv2.imread(filepath)\n",
    "rgb_pic = cv2.cvtColor(pic, cv2.COLOR_BGR2RGB)\n",
    "w, h, d = original_shape = tuple(rgb_pic.shape)\n",
    "\n",
    "img_hsv = cv2.cvtColor(pic, cv2.COLOR_BGR2HSV) # конвертирование в HSV\n",
    "\n",
    "can2 = img_hsv[:,:,0] # проекция изображения на канал \"H\" цветового пространства HSV\n",
    "\n",
    "ret, thresh2 = cv2.threshold(can2,20,255,cv2.THRESH_BINARY_INV) # создание маски threshold с параметрами\n",
    "thresh2 = cv2.medianBlur(thresh2, 3)\n",
    "\n",
    "# Применение threshold маски к RGB изображению\n",
    "res = np.zeros((w,h,d))\n",
    "res[:,:,0] = np.where(thresh2, rgb_pic[:,:,0], 0) \n",
    "res[:,:,1] = np.where(thresh2, rgb_pic[:,:,1], 0)\n",
    "res[:,:,2] = np.where(thresh2, rgb_pic[:,:,2], 0)\n",
    "\n",
    "res = np.array(res/255,np.float32)\n",
    "\n",
    "plt.imshow(res)"
   ]
  },
  {
   "cell_type": "code",
   "execution_count": 3,
   "metadata": {},
   "outputs": [
    {
     "data": {
      "text/plain": [
       "<matplotlib.image.AxesImage at 0x1212a57c0>"
      ]
     },
     "execution_count": 3,
     "metadata": {},
     "output_type": "execute_result"
    },
    {
     "data": {
      "image/png": "[encoded data removed]",
      "text/plain": [
       "<Figure size 432x288 with 1 Axes>"
      ]
     },
     "metadata": {
      "needs_background": "light"
     },
     "output_type": "display_data"
    }
   ],
   "source": [
    "# Детекция на основе цветового пространства YCbCr\n",
    "\n",
    "import cv2\n",
    "import os\n",
    "import matplotlib.pyplot as plt\n",
    "import numpy as np\n",
    "\n",
    "directory = 'extra_cropped_data/data_ground/'\n",
    "filename = '10.jpg'\n",
    "filepath = os.path.join(directory, filename)\n",
    "\n",
    "pic = cv2.imread(filepath)\n",
    "rgb_pic = cv2.cvtColor(pic, cv2.COLOR_BGR2RGB)\n",
    "w, h, d = original_shape = tuple(rgb_pic.shape)\n",
    "\n",
    "img_YCbCr = cv2.cvtColor(pic, cv2.COLOR_BGR2YCR_CB) # конвертирование в YCbCr\n",
    "\n",
    "can3 = img_YCbCr[:,:,2] # проекция изображения на канал \"Cr\" цветового пространства YCbCr\n",
    "\n",
    "ret,thresh3 = cv2.threshold(can3,100,255,cv2.THRESH_BINARY_INV) # создание маски threshold с параметрами\n",
    "\n",
    "# Применение threshold маски к RGB изображению\n",
    "res = np.zeros((w,h,d))\n",
    "res[:,:,0] = np.where(thresh3, rgb_pic[:,:,0], 0) \n",
    "res[:,:,1] = np.where(thresh3, rgb_pic[:,:,1], 0)\n",
    "res[:,:,2] = np.where(thresh3, rgb_pic[:,:,2], 0)\n",
    "\n",
    "res = np.array(res/255,np.float32)\n",
    "\n",
    "plt.imshow(res)"
   ]
  },
  {
   "cell_type": "code",
   "execution_count": 4,
   "metadata": {},
   "outputs": [
    {
     "data": {
      "text/plain": [
       "<matplotlib.image.AxesImage at 0x12164e610>"
      ]
     },
     "execution_count": 4,
     "metadata": {},
     "output_type": "execute_result"
    },
    {
     "data": {
      "image/png": "[encoded data removed]",
      "text/plain": [
       "<Figure size 432x288 with 1 Axes>"
      ]
     },
     "metadata": {
      "needs_background": "light"
     },
     "output_type": "display_data"
    }
   ],
   "source": [
    "# Детекция на основе выделения оранжевого цвета\n",
    "\n",
    "import cv2\n",
    "import os\n",
    "import matplotlib.pyplot as plt\n",
    "import numpy as np\n",
    "\n",
    "directory = 'extra_cropped_data/data_ground/'\n",
    "filename = '10.jpg'\n",
    "filepath = os.path.join(directory, filename)\n",
    "\n",
    "pic = cv2.imread(filepath)\n",
    "rgb_pic = cv2.cvtColor(pic, cv2.COLOR_BGR2RGB)\n",
    "w, h, d = original_shape = tuple(rgb_pic.shape)\n",
    "\n",
    "img_hsv = cv2.cvtColor(pic, cv2.COLOR_BGR2HSV) # конвертирование в HSV\n",
    "\n",
    "# выделение оранжевого цвета\n",
    "mask = cv2.inRange(img_hsv, (10, 100, 20), (25, 255, 255))\n",
    "img_hsv_orange = cv2.bitwise_and(img_hsv,img_hsv,mask = mask)\n",
    "img_hsv_orange = np.array(img_hsv_orange/255,np.float32)\n",
    "can1 = cv2.cvtColor(img_hsv_orange, cv2.COLOR_RGB2GRAY)\n",
    "\n",
    "# создание маски threshold с параметрами\n",
    "ret,thresh1 = cv2.threshold(can1,0,255,cv2.THRESH_BINARY)\n",
    "\n",
    "# Применение threshold маски к RGB изображению\n",
    "res = np.zeros((w,h,d))\n",
    "res[:,:,0] = np.where(thresh1, rgb_pic[:,:,0], 0) \n",
    "res[:,:,1] = np.where(thresh1, rgb_pic[:,:,1], 0)\n",
    "res[:,:,2] = np.where(thresh1, rgb_pic[:,:,2], 0)\n",
    "\n",
    "res = np.array(res/255,np.float32)\n",
    "\n",
    "plt.imshow(res)"
   ]
  },
  {
   "cell_type": "code",
   "execution_count": 6,
   "metadata": {},
   "outputs": [
    {
     "data": {
      "text/plain": [
       "<matplotlib.image.AxesImage at 0x12b48e250>"
      ]
     },
     "execution_count": 6,
     "metadata": {},
     "output_type": "execute_result"
    },
    {
     "data": {
      "image/png": "[encoded data removed]",
      "text/plain": [
       "<Figure size 432x288 with 1 Axes>"
      ]
     },
     "metadata": {
      "needs_background": "light"
     },
     "output_type": "display_data"
    }
   ],
   "source": [
    "# Эксперимент кластеризации с помощью k-means\n",
    "\n",
    "import matplotlib.pyplot as plt\n",
    "from sklearn.cluster import KMeans\n",
    "import cv2\n",
    "import numpy as np\n",
    "\n",
    "n_clusters = 7\n",
    "w, h, d = original_shape = tuple(rgb_pic.shape)\n",
    "image_array = np.reshape(rgb_pic, (w * h, d))\n",
    "kmeans = KMeans(n_clusters, random_state=0).fit(image_array)\n",
    "\n",
    "\n",
    "labels =  kmeans.labels_\n",
    "image = np.zeros((w, h, d))\n",
    "label_idx = 0\n",
    "color = [0, 0, 0]\n",
    "for i in range(w):\n",
    "    for j in range(h):\n",
    "        if(labels[label_idx] == 0):\n",
    "            color = [255, 0, 0]\n",
    "        if(labels[label_idx] == 1):\n",
    "            color = [0, 255, 0]\n",
    "        if(labels[label_idx] == 2):\n",
    "            color = [0, 0, 255]\n",
    "        if(labels[label_idx] == 3):\n",
    "            color = [0, 255, 255]        \n",
    "        if(labels[label_idx] == 4):\n",
    "            color = [255, 0, 255]\n",
    "        if(labels[label_idx] == 5):\n",
    "            color = [255, 255, 255]    \n",
    "        if(labels[label_idx] == 6):\n",
    "            color = [0, 0, 0] \n",
    "            \n",
    "        image[i][j][:] = color\n",
    "        label_idx += 1\n",
    "\n",
    "image = np.array(image/255,np.float32)\n",
    "plt.imshow(image)"
   ]
  }
 ],
 "metadata": {
  "kernelspec": {
   "display_name": "Python 3",
   "language": "python",
   "name": "python3"
  },
  "language_info": {
   "codemirror_mode": {
    "name": "ipython",
    "version": 3
   },
   "file_extension": ".py",
   "mimetype": "text/x-python",
   "name": "python",
   "nbconvert_exporter": "python",
   "pygments_lexer": "ipython3",
   "version": "3.8.1"
  }
 },
 "nbformat": 4,
 "nbformat_minor": 4
}
