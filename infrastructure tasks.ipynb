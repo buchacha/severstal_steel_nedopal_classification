{
 "cells": [
  {
   "cell_type": "code",
   "execution_count": null,
   "metadata": {},
   "outputs": [],
   "source": [
    "import os\n",
    "import cv2\n",
    "\n",
    "directory = 'data/data_proccesed/'\n",
    "new_directory = 'extra_cropped_data/data_proccesed/'\n",
    "\n",
    "files = []\n",
    "scale_percent = 10\n",
    "\n",
    "for filename in os.listdir(directory):\n",
    "    filepath = os.path.join(directory, filename)\n",
    "    print(filepath)\n",
    "    img = cv2.imread(filepath)\n",
    "    wi = int(img.shape[1] * scale_percent / 100)\n",
    "    he = int(img.shape[0] * scale_percent / 100)\n",
    "    dim = (wi, he)\n",
    "    res_img = cv2.resize(img, dim, interpolation = cv2.INTER_AREA)\n",
    "    new_filepath = os.path.join(new_directory, filename)\n",
    "    cv2.imwrite(new_filepath, res_img)"
   ]
  },
  {
   "cell_type": "code",
   "execution_count": null,
   "metadata": {},
   "outputs": [],
   "source": [
    "files_sorted = sorted(files, key=lambda x: int(x[3:-4]))"
   ]
  },
  {
   "cell_type": "code",
   "execution_count": null,
   "metadata": {},
   "outputs": [],
   "source": [
    "print(files_sorted)"
   ]
  },
  {
   "cell_type": "code",
   "execution_count": null,
   "metadata": {},
   "outputs": [],
   "source": [
    "for n, filename in enumerate(files_sorted, start=1):\n",
    "    filepath_old = os.path.join(directory, filename)\n",
    "    new_filename = str(n) + '.jpg'\n",
    "    filepath_new = os.path.join(directory, new_filename)\n",
    "    print(filepath_old, filepath_new)\n",
    "    os.rename(filepath_old, filepath_new)"
   ]
  },
  {
   "cell_type": "code",
   "execution_count": null,
   "metadata": {},
   "outputs": [],
   "source": []
  },
  {
   "cell_type": "code",
   "execution_count": 26,
   "metadata": {},
   "outputs": [],
   "source": [
    "import os\n",
    "import cv2\n",
    "import numpy as np\n",
    "import matplotlib.pyplot as plt\n",
    "\n",
    "directory = 'extra_cropped_data/data_proccesed/'\n",
    "new_directory = 'extra_cropped_data/proccesed_mask/'\n",
    "\n",
    "for filename in os.listdir(directory):\n",
    "\n",
    "    filepath = os.path.join(directory, filename)\n",
    "\n",
    "    pic = cv2.imread(filepath)\n",
    "    rgb_pic = cv2.cvtColor(pic, cv2.COLOR_BGR2RGB)\n",
    "\n",
    "    w, h, d = original_shape = tuple(rgb_pic.shape)\n",
    "    img_YCbCr = cv2.cvtColor(pic, cv2.COLOR_BGR2YCR_CB)\n",
    "    can3 = img_YCbCr[:,:,2]\n",
    "    ret, thresh3 = cv2.threshold(can3, 100, 255, cv2.THRESH_BINARY_INV)\n",
    "\n",
    "    res = np.zeros((w,h,d))\n",
    "    res[:,:,0] = np.where(thresh3, rgb_pic[:,:,0], 0)\n",
    "    res[:,:,1] = np.where(thresh3, rgb_pic[:,:,1], 0)\n",
    "    res[:,:,2] = np.where(thresh3, rgb_pic[:,:,2], 0)\n",
    "\n",
    "    res = np.array(res, np.float32)\n",
    "    res = cv2.cvtColor(res, cv2.COLOR_RGB2BGR)\n",
    "    new_filepath = os.path.join(new_directory, filename)\n",
    "    cv2.imwrite(new_filepath, res)"
   ]
  }
 ],
 "metadata": {
  "kernelspec": {
   "display_name": "Python 3",
   "language": "python",
   "name": "python3"
  },
  "language_info": {
   "codemirror_mode": {
    "name": "ipython",
    "version": 3
   },
   "file_extension": ".py",
   "mimetype": "text/x-python",
   "name": "python",
   "nbconvert_exporter": "python",
   "pygments_lexer": "ipython3",
   "version": "3.8.1"
  }
 },
 "nbformat": 4,
 "nbformat_minor": 4
}
